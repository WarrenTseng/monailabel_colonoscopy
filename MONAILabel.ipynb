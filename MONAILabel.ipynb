{
 "cells": [
  {
   "cell_type": "code",
   "execution_count": null,
   "id": "13fdfd94",
   "metadata": {},
   "outputs": [],
   "source": [
    "# !pip install monailabel-weekly==v0.4.dev2213"
   ]
  },
  {
   "cell_type": "code",
   "execution_count": 1,
   "id": "12092898",
   "metadata": {},
   "outputs": [
    {
     "data": {
      "text/plain": [
       "'0.4.dev2213'"
      ]
     },
     "execution_count": 1,
     "metadata": {},
     "output_type": "execute_result"
    }
   ],
   "source": [
    "import monailabel\n",
    "import monai\n",
    "\n",
    "monailabel.__version__"
   ]
  },
  {
   "cell_type": "code",
   "execution_count": 2,
   "id": "a713e85b",
   "metadata": {},
   "outputs": [
    {
     "data": {
      "text/plain": [
       "'0.8.1+181.ga676e387'"
      ]
     },
     "execution_count": 2,
     "metadata": {},
     "output_type": "execute_result"
    }
   ],
   "source": [
    "monai.__version__"
   ]
  },
  {
   "cell_type": "code",
   "execution_count": 5,
   "id": "7793d9a6",
   "metadata": {},
   "outputs": [],
   "source": [
    "# reset annotated data\n",
    "# !rm -r colonoscopy_samples/labels/ colonoscopy_samples/datastore_v2.json"
   ]
  },
  {
   "cell_type": "code",
   "execution_count": 6,
   "id": "2a6cc053",
   "metadata": {},
   "outputs": [],
   "source": [
    "# reset re-trained model\n",
    "# !rm -r colonoscopy_app/model/train_01/ colonoscopy_app/model/train_stats.json colonoscopy_app/model/segmentation_PraNet-19.pt"
   ]
  },
  {
   "cell_type": "code",
   "execution_count": 4,
   "id": "a2f79aee",
   "metadata": {
    "scrolled": true
   },
   "outputs": [],
   "source": [
    "!monailabel start_server --app colonoscopy_app --studies colonoscopy_samples/ --port 8004 --conf models segmentation"
   ]
  },
  {
   "cell_type": "code",
   "execution_count": null,
   "id": "8095ec05",
   "metadata": {},
   "outputs": [],
   "source": []
  }
 ],
 "metadata": {
  "kernelspec": {
   "display_name": "Python 3 (ipykernel)",
   "language": "python",
   "name": "python3"
  },
  "language_info": {
   "codemirror_mode": {
    "name": "ipython",
    "version": 3
   },
   "file_extension": ".py",
   "mimetype": "text/x-python",
   "name": "python",
   "nbconvert_exporter": "python",
   "pygments_lexer": "ipython3",
   "version": "3.8.12"
  }
 },
 "nbformat": 4,
 "nbformat_minor": 5
}
